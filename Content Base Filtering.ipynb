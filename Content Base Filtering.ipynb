{
 "cells": [
  {
   "cell_type": "markdown",
   "metadata": {},
   "source": [
    "# Content Base Filtering"
   ]
  },
  {
   "cell_type": "code",
   "execution_count": 3,
   "metadata": {},
   "outputs": [],
   "source": [
    "import pandas as pd\n",
    "from math import sqrt\n",
    "import numpy as np"
   ]
  },
  {
   "cell_type": "code",
   "execution_count": 4,
   "metadata": {},
   "outputs": [],
   "source": [
    "ratings = pd.read_csv('dataset/movie/ratings.csv')\n",
    "movies = pd.read_csv('dataset/movie/movies.csv')"
   ]
  },
  {
   "cell_type": "code",
   "execution_count": 22,
   "metadata": {},
   "outputs": [],
   "source": [
    "def rekomendasi_film_content(user_id):\n",
    "    #Melakukan One Hot Encoding untuk dataframe baru\n",
    "    #Kita copy dulu\n",
    "    new_movies = movies.copy()\n",
    "    #Kita looping untuk setiap row di df, lalu looping lagi di genres list dan taroh list tsb ke dalam kolom\n",
    "    for index, row in movies.iterrows():\n",
    "        for genre in row['genres']:\n",
    "            new_movies.at[index, genre] = 1    \n",
    "    #Yang tidak termasuk genrenya ke dalam list maka kita diisi dengan 0\n",
    "    new_movies = new_movies.fillna(0)\n",
    "    \n",
    "    #Kita membuat movie input dari user\n",
    "    rating_grouping = ratings.groupby('userId')\n",
    "    user_id_film = rating_grouping.get_group(user_id).head(5)\n",
    "    \n",
    "    #Kemudian melakukan One Hot Encoding untuk input movie user\n",
    "    user_movie_encoding = new_movies[new_movies['movieId'].isin(user_id_film['movieId'].tolist())]\n",
    "    #Reset index\n",
    "    user_movie_encoding = user_movie_encoding.reset_index(drop=True)\n",
    "    #Drop unused columns\n",
    "    user_movie_encoding = user_movie_encoding.drop(columns=['movieId', 'title', 'genres'])\n",
    "    \n",
    "    #Mencari tahu user profile berdasarkan genrenya\n",
    "    #Menggunakan dot product untuk mendapatkan bobot dari setiap genre\n",
    "    user_profile = user_movie_encoding.transpose().dot(user_id_film['rating'].reset_index(drop=True))\n",
    "    \n",
    "    #Melakukan Rekomendasi Film\n",
    "    new_movies.set_index(new_movies['movieId'], inplace=True)\n",
    "    new_movies = new_movies.drop('movieId', 1).drop('title', 1).drop('genres', 1)\n",
    "    #Multiply the genres by the weights and then take the weighted average\n",
    "    rekomendasi_film = ((new_movies*user_profile).sum(axis=1))/(user_profile.sum())\n",
    "    #Urutkan berdasarkan nilai weughted average tertinggti\n",
    "    rekomendasi_film = rekomendasi_film.sort_values(ascending=False)\n",
    "    #Rekomendasi film final untuk User\n",
    "    rekomendasi_film_final = movies.loc[movies['movieId'].isin(rekomendasi_film.head(10).keys())]\n",
    "    \n",
    "    return rekomendasi_film_final"
   ]
  },
  {
   "cell_type": "code",
   "execution_count": 23,
   "metadata": {},
   "outputs": [
    {
     "name": "stdout",
     "output_type": "stream",
     "text": [
      "Masukan User Id: 123\n"
     ]
    },
    {
     "data": {
      "text/html": [
       "<div>\n",
       "<style scoped>\n",
       "    .dataframe tbody tr th:only-of-type {\n",
       "        vertical-align: middle;\n",
       "    }\n",
       "\n",
       "    .dataframe tbody tr th {\n",
       "        vertical-align: top;\n",
       "    }\n",
       "\n",
       "    .dataframe thead th {\n",
       "        text-align: right;\n",
       "    }\n",
       "</style>\n",
       "<table border=\"1\" class=\"dataframe\">\n",
       "  <thead>\n",
       "    <tr style=\"text-align: right;\">\n",
       "      <th></th>\n",
       "      <th>movieId</th>\n",
       "      <th>title</th>\n",
       "      <th>genres</th>\n",
       "    </tr>\n",
       "  </thead>\n",
       "  <tbody>\n",
       "    <tr>\n",
       "      <th>167</th>\n",
       "      <td>198</td>\n",
       "      <td>Strange Days (1995)</td>\n",
       "      <td>Action|Crime|Drama|Mystery|Sci-Fi|Thriller</td>\n",
       "    </tr>\n",
       "    <tr>\n",
       "      <th>4631</th>\n",
       "      <td>6902</td>\n",
       "      <td>Interstate 60 (2002)</td>\n",
       "      <td>Adventure|Comedy|Drama|Fantasy|Mystery|Sci-Fi|...</td>\n",
       "    </tr>\n",
       "    <tr>\n",
       "      <th>5556</th>\n",
       "      <td>26701</td>\n",
       "      <td>Patlabor: The Movie (Kidô keisatsu patorebâ: T...</td>\n",
       "      <td>Action|Animation|Crime|Drama|Film-Noir|Mystery...</td>\n",
       "    </tr>\n",
       "    <tr>\n",
       "      <th>5808</th>\n",
       "      <td>31921</td>\n",
       "      <td>Seven-Per-Cent Solution, The (1976)</td>\n",
       "      <td>Adventure|Comedy|Crime|Drama|Mystery|Thriller</td>\n",
       "    </tr>\n",
       "    <tr>\n",
       "      <th>7170</th>\n",
       "      <td>71999</td>\n",
       "      <td>Aelita: The Queen of Mars (Aelita) (1924)</td>\n",
       "      <td>Action|Adventure|Drama|Fantasy|Romance|Sci-Fi|...</td>\n",
       "    </tr>\n",
       "    <tr>\n",
       "      <th>7372</th>\n",
       "      <td>79132</td>\n",
       "      <td>Inception (2010)</td>\n",
       "      <td>Action|Crime|Drama|Mystery|Sci-Fi|Thriller|IMAX</td>\n",
       "    </tr>\n",
       "    <tr>\n",
       "      <th>7441</th>\n",
       "      <td>81132</td>\n",
       "      <td>Rubber (2010)</td>\n",
       "      <td>Action|Adventure|Comedy|Crime|Drama|Film-Noir|...</td>\n",
       "    </tr>\n",
       "    <tr>\n",
       "      <th>8597</th>\n",
       "      <td>117646</td>\n",
       "      <td>Dragonheart 2: A New Beginning (2000)</td>\n",
       "      <td>Action|Adventure|Comedy|Drama|Fantasy|Thriller</td>\n",
       "    </tr>\n",
       "    <tr>\n",
       "      <th>9169</th>\n",
       "      <td>148775</td>\n",
       "      <td>Wizards of Waverly Place: The Movie (2009)</td>\n",
       "      <td>Adventure|Children|Comedy|Drama|Fantasy|Sci-Fi</td>\n",
       "    </tr>\n",
       "    <tr>\n",
       "      <th>9394</th>\n",
       "      <td>164226</td>\n",
       "      <td>Maximum Ride (2016)</td>\n",
       "      <td>Action|Adventure|Comedy|Fantasy|Sci-Fi|Thriller</td>\n",
       "    </tr>\n",
       "  </tbody>\n",
       "</table>\n",
       "</div>"
      ],
      "text/plain": [
       "      movieId                                              title  \\\n",
       "167       198                                Strange Days (1995)   \n",
       "4631     6902                               Interstate 60 (2002)   \n",
       "5556    26701  Patlabor: The Movie (Kidô keisatsu patorebâ: T...   \n",
       "5808    31921                Seven-Per-Cent Solution, The (1976)   \n",
       "7170    71999          Aelita: The Queen of Mars (Aelita) (1924)   \n",
       "7372    79132                                   Inception (2010)   \n",
       "7441    81132                                      Rubber (2010)   \n",
       "8597   117646              Dragonheart 2: A New Beginning (2000)   \n",
       "9169   148775         Wizards of Waverly Place: The Movie (2009)   \n",
       "9394   164226                                Maximum Ride (2016)   \n",
       "\n",
       "                                                 genres  \n",
       "167          Action|Crime|Drama|Mystery|Sci-Fi|Thriller  \n",
       "4631  Adventure|Comedy|Drama|Fantasy|Mystery|Sci-Fi|...  \n",
       "5556  Action|Animation|Crime|Drama|Film-Noir|Mystery...  \n",
       "5808      Adventure|Comedy|Crime|Drama|Mystery|Thriller  \n",
       "7170  Action|Adventure|Drama|Fantasy|Romance|Sci-Fi|...  \n",
       "7372    Action|Crime|Drama|Mystery|Sci-Fi|Thriller|IMAX  \n",
       "7441  Action|Adventure|Comedy|Crime|Drama|Film-Noir|...  \n",
       "8597     Action|Adventure|Comedy|Drama|Fantasy|Thriller  \n",
       "9169     Adventure|Children|Comedy|Drama|Fantasy|Sci-Fi  \n",
       "9394    Action|Adventure|Comedy|Fantasy|Sci-Fi|Thriller  "
      ]
     },
     "execution_count": 23,
     "metadata": {},
     "output_type": "execute_result"
    }
   ],
   "source": [
    "user = int(input('Masukan User Id: '))\n",
    "rekomendasi_film_content(user)"
   ]
  },
  {
   "cell_type": "code",
   "execution_count": 33,
   "metadata": {},
   "outputs": [],
   "source": [
    "from sklearn.feature_extraction.text import TfidfVectorizer\n",
    "from sklearn.metrics.pairwise import linear_kernel "
   ]
  },
  {
   "cell_type": "code",
   "execution_count": 34,
   "metadata": {},
   "outputs": [],
   "source": [
    "df_tag = pd.read_csv('dataset/movie/tags.csv')"
   ]
  },
  {
   "cell_type": "code",
   "execution_count": 39,
   "metadata": {},
   "outputs": [],
   "source": [
    "#ngram_range untuk kombinasi kata contoh:ngram_range(1,2) very expensive watch -> very expensive, expensive watch\n",
    "tf = TfidfVectorizer(analyzer='word', ngram_range=(1, 2), min_df=0, stop_words='english')\n",
    "tfidf_matrix = tf.fit_transform(df_tag['tag'])"
   ]
  },
  {
   "cell_type": "code",
   "execution_count": 45,
   "metadata": {},
   "outputs": [],
   "source": [
    "cosine_similarities = linear_kernel(tfidf_matrix, tfidf_matrix) \n",
    "results = {}\n",
    "for idx, row in df_tag.iterrows():\n",
    "   similar_indices = cosine_similarities[idx].argsort()[:-100:-1] \n",
    "   similar_items = [(cosine_similarities[idx][i], df_tag['movieId'][i]) for i in similar_indices] \n",
    "   results[row['movieId']] = similar_items[1:]"
   ]
  },
  {
   "cell_type": "code",
   "execution_count": null,
   "metadata": {},
   "outputs": [],
   "source": []
  },
  {
   "cell_type": "code",
   "execution_count": 79,
   "metadata": {},
   "outputs": [],
   "source": [
    "df_movie = pd.read_csv('dataset/movie/movies.csv')"
   ]
  },
  {
   "cell_type": "code",
   "execution_count": 80,
   "metadata": {},
   "outputs": [],
   "source": [
    "df_tag = pd.merge(df_tag,df_movie,how='left',on='movieId')"
   ]
  },
  {
   "cell_type": "code",
   "execution_count": 82,
   "metadata": {},
   "outputs": [
    {
     "data": {
      "text/html": [
       "<div>\n",
       "<style scoped>\n",
       "    .dataframe tbody tr th:only-of-type {\n",
       "        vertical-align: middle;\n",
       "    }\n",
       "\n",
       "    .dataframe tbody tr th {\n",
       "        vertical-align: top;\n",
       "    }\n",
       "\n",
       "    .dataframe thead th {\n",
       "        text-align: right;\n",
       "    }\n",
       "</style>\n",
       "<table border=\"1\" class=\"dataframe\">\n",
       "  <thead>\n",
       "    <tr style=\"text-align: right;\">\n",
       "      <th></th>\n",
       "      <th>userId</th>\n",
       "      <th>movieId</th>\n",
       "      <th>tag</th>\n",
       "      <th>timestamp</th>\n",
       "      <th>title</th>\n",
       "      <th>genres</th>\n",
       "    </tr>\n",
       "  </thead>\n",
       "  <tbody>\n",
       "    <tr>\n",
       "      <th>0</th>\n",
       "      <td>2</td>\n",
       "      <td>60756</td>\n",
       "      <td>funny</td>\n",
       "      <td>1445714994</td>\n",
       "      <td>Step Brothers (2008)</td>\n",
       "      <td>Comedy</td>\n",
       "    </tr>\n",
       "    <tr>\n",
       "      <th>1</th>\n",
       "      <td>2</td>\n",
       "      <td>60756</td>\n",
       "      <td>Highly quotable</td>\n",
       "      <td>1445714996</td>\n",
       "      <td>Step Brothers (2008)</td>\n",
       "      <td>Comedy</td>\n",
       "    </tr>\n",
       "    <tr>\n",
       "      <th>2</th>\n",
       "      <td>2</td>\n",
       "      <td>60756</td>\n",
       "      <td>will ferrell</td>\n",
       "      <td>1445714992</td>\n",
       "      <td>Step Brothers (2008)</td>\n",
       "      <td>Comedy</td>\n",
       "    </tr>\n",
       "    <tr>\n",
       "      <th>3</th>\n",
       "      <td>2</td>\n",
       "      <td>89774</td>\n",
       "      <td>Boxing story</td>\n",
       "      <td>1445715207</td>\n",
       "      <td>Warrior (2011)</td>\n",
       "      <td>Drama</td>\n",
       "    </tr>\n",
       "    <tr>\n",
       "      <th>4</th>\n",
       "      <td>2</td>\n",
       "      <td>89774</td>\n",
       "      <td>MMA</td>\n",
       "      <td>1445715200</td>\n",
       "      <td>Warrior (2011)</td>\n",
       "      <td>Drama</td>\n",
       "    </tr>\n",
       "  </tbody>\n",
       "</table>\n",
       "</div>"
      ],
      "text/plain": [
       "   userId  movieId              tag   timestamp                 title  genres\n",
       "0       2    60756            funny  1445714994  Step Brothers (2008)  Comedy\n",
       "1       2    60756  Highly quotable  1445714996  Step Brothers (2008)  Comedy\n",
       "2       2    60756     will ferrell  1445714992  Step Brothers (2008)  Comedy\n",
       "3       2    89774     Boxing story  1445715207        Warrior (2011)   Drama\n",
       "4       2    89774              MMA  1445715200        Warrior (2011)   Drama"
      ]
     },
     "execution_count": 82,
     "metadata": {},
     "output_type": "execute_result"
    }
   ],
   "source": [
    "df_tag.head()"
   ]
  },
  {
   "cell_type": "code",
   "execution_count": 83,
   "metadata": {},
   "outputs": [],
   "source": [
    "def item(movieId):  \n",
    "    return df_tag.loc[df_tag['movieId'] == movieId]['title'].tolist()[0].split(' - ')[0] \n",
    "#     return df_tag.loc[df_tag['movieId'] == movieId]['movieId']\n",
    "    # Just reads the results out of the dictionary.\n",
    "def recommend(movieId, num):\n",
    "    print(\"Recommending \" + str(num) + \" products similar to \" + item(movieId) + \"...\")   \n",
    "    print(\"-------\")    \n",
    "    recs = results[movieId][:num]   \n",
    "    for rec in recs: \n",
    "       print(\"Recommended: \" + item(rec[1]) + \" (score:\" +      str(rec[0]) + \")\")"
   ]
  },
  {
   "cell_type": "code",
   "execution_count": 85,
   "metadata": {},
   "outputs": [
    {
     "name": "stdout",
     "output_type": "stream",
     "text": [
      "Recommending 5 products similar to Toy Story (1995)...\n",
      "-------\n",
      "Recommended: Pulp Fiction (1994) (score:1.0)\n",
      "Recommended: Guardians of the Galaxy 2 (2017) (score:1.0)\n",
      "Recommended: The Lego Movie (2014) (score:1.0)\n",
      "Recommended: Toy Story (1995) (score:1.0)\n",
      "Recommended: Big Hero 6 (2014) (score:0.4340087390404574)\n"
     ]
    }
   ],
   "source": [
    "recommend(movieId=1,num=5)"
   ]
  }
 ],
 "metadata": {
  "kernelspec": {
   "display_name": "Python 3",
   "language": "python",
   "name": "python3"
  },
  "language_info": {
   "codemirror_mode": {
    "name": "ipython",
    "version": 3
   },
   "file_extension": ".py",
   "mimetype": "text/x-python",
   "name": "python",
   "nbconvert_exporter": "python",
   "pygments_lexer": "ipython3",
   "version": "3.7.3"
  }
 },
 "nbformat": 4,
 "nbformat_minor": 2
}
